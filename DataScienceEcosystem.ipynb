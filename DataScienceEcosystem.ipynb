{
 "cells": [
  {
   "cell_type": "markdown",
   "id": "974d0108-ce71-4d7e-b18e-b00d7421d920",
   "metadata": {},
   "source": [
    "<h1>  Data Science Tools and Ecosystem </h1>"
   ]
  },
  {
   "cell_type": "markdown",
   "id": "b871157b-d150-4c2c-96fa-3158931010be",
   "metadata": {},
   "source": [
    "<h2> Author </h2>\n",
    "Muaaz Bhamjee"
   ]
  },
  {
   "cell_type": "markdown",
   "id": "8fef3dbf-8426-4f91-a320-b3ce6d414b64",
   "metadata": {},
   "source": [
    "In this notebook I will discuss Data Science Tools and the Data Science Ecosystem."
   ]
  },
  {
   "cell_type": "markdown",
   "id": "a2754e79-d31b-4a3b-8452-4f76090ccbf1",
   "metadata": {},
   "source": [
    "__Objectives:__<br>\n",
    "\n",
    "* List popular languages used in Data Science\n",
    "* List popular libraries used in Data Science\n",
    "* Tabulate a list of  popular tools used in Data Science \n",
    "* Use Python to execute basic arithmetic\n",
    "* Demonstrate the use Jupyter Lab, specifically Jupyter Notebooks"
   ]
  },
  {
   "cell_type": "markdown",
   "id": "a2608b4e-c033-437e-9b45-d9b2a1c4dba3",
   "metadata": {},
   "source": [
    "Three commonly used Data Science languages are:\n",
    "1. Python\n",
    "2. R\n",
    "3. SQL"
   ]
  },
  {
   "cell_type": "markdown",
   "id": "ca2f0c98-c36b-4345-a579-56a0f6afcbda",
   "metadata": {},
   "source": [
    "Some commonly used Data Science libraries include:\n",
    "1. Tensorflow\n",
    "2. PyTorch\n",
    "3. Numpy\n",
    "4. Matplotlib"
   ]
  },
  {
   "cell_type": "markdown",
   "id": "fa723a40-c180-4c37-8d8b-acc8f24fe53e",
   "metadata": {},
   "source": [
    "|Data Science Tools|\n",
    "|------------------|\n",
    "|Github            |\n",
    "|Jupyter Lab       |\n",
    "|R-Studio IDE      |"
   ]
  },
  {
   "cell_type": "markdown",
   "id": "3bc031f7-f837-4ea0-b22c-78400be61ff9",
   "metadata": {},
   "source": [
    "<h3> Below are a few examples of evaluating arithmetic expressions in Python </h3>"
   ]
  },
  {
   "cell_type": "code",
   "execution_count": 2,
   "id": "ba97f623-1261-4b90-9ba6-abfc2ec3fe36",
   "metadata": {},
   "outputs": [
    {
     "data": {
      "text/plain": [
       "17"
      ]
     },
     "execution_count": 2,
     "metadata": {},
     "output_type": "execute_result"
    }
   ],
   "source": [
    "(3*4)+5\n",
    "#This a simple arithmetic expression to mutiply then add integers"
   ]
  },
  {
   "cell_type": "code",
   "execution_count": 5,
   "id": "2321fe2b-4966-489b-8560-6cc0c5072c12",
   "metadata": {},
   "outputs": [
    {
     "name": "stdout",
     "output_type": "stream",
     "text": [
      "3.3333333333333335\n"
     ]
    }
   ],
   "source": [
    "x = 200 #time in minutes\n",
    "y = 60 #number of minutes in hours\n",
    "z = x/y #the time (x) in hours\n",
    "print(z) #print the answer\n",
    "# This will convert 200 minutes to hours by diving by 60"
   ]
  },
  {
   "cell_type": "code",
   "execution_count": null,
   "id": "0f80d54b-b67e-4371-9738-fb750b891dcb",
   "metadata": {},
   "outputs": [],
   "source": []
  }
 ],
 "metadata": {
  "kernelspec": {
   "display_name": "Python",
   "language": "python",
   "name": "conda-env-python-py"
  },
  "language_info": {
   "codemirror_mode": {
    "name": "ipython",
    "version": 3
   },
   "file_extension": ".py",
   "mimetype": "text/x-python",
   "name": "python",
   "nbconvert_exporter": "python",
   "pygments_lexer": "ipython3",
   "version": "3.7.12"
  }
 },
 "nbformat": 4,
 "nbformat_minor": 5
}
